{
  "nbformat": 4,
  "nbformat_minor": 0,
  "metadata": {
    "colab": {
      "provenance": [],
      "authorship_tag": "ABX9TyP2XWjYA8R64ZRxvyTr8oK8",
      "include_colab_link": true
    },
    "kernelspec": {
      "name": "python3",
      "display_name": "Python 3"
    },
    "language_info": {
      "name": "python"
    }
  },
  "cells": [
    {
      "cell_type": "markdown",
      "metadata": {
        "id": "view-in-github",
        "colab_type": "text"
      },
      "source": [
        "<a href=\"https://colab.research.google.com/github/fakelaboratory/publish/blob/main/ModernGL_triangle_animation_example.ipynb\" target=\"_parent\"><img src=\"https://colab.research.google.com/assets/colab-badge.svg\" alt=\"Open In Colab\"/></a>"
      ]
    },
    {
      "cell_type": "code",
      "source": [
        "!pip install moderngl\n",
        "!pip install moviepy\n",
        "import moderngl as gl\n",
        "import numpy as np\n",
        "from PIL import Image\n",
        "import moviepy.editor as mpy\n",
        "from google.colab import files\n",
        "\n",
        "ctx = gl.create_context(standalone=True, backend='egl')\n",
        "print(ctx.info)"
      ],
      "metadata": {
        "id": "2DkuRMa7e6EH"
      },
      "execution_count": null,
      "outputs": []
    },
    {
      "cell_type": "code",
      "source": [
        "prog = ctx.program(\n",
        "    vertex_shader=\"\"\"\n",
        "        #version 330\n",
        "\n",
        "        in vec2 in_vert;\n",
        "        in vec3 in_color;\n",
        "\n",
        "        out vec3 v_color;\n",
        "\n",
        "        void main() {\n",
        "            v_color = in_color;\n",
        "            gl_Position = vec4(in_vert, 0.0, 1.0);\n",
        "        }\n",
        "    \"\"\",\n",
        "    fragment_shader=\"\"\"\n",
        "        #version 330\n",
        "\n",
        "        in vec3 v_color;\n",
        "\n",
        "        out vec3 f_color;\n",
        "\n",
        "        void main() {\n",
        "            f_color = v_color;\n",
        "        }\n",
        "    \"\"\",\n",
        ")\n",
        "\n",
        "vertices = np.asarray([\n",
        "\n",
        "    -0.75, -0.75,  1, 0, 0,\n",
        "    0.75, -0.75,  0, 1, 0,\n",
        "    0.0, 0.649,  0, 0, 1\n",
        "\n",
        "], dtype='f4')"
      ],
      "metadata": {
        "id": "gu3HlTFFnUB7"
      },
      "execution_count": null,
      "outputs": []
    },
    {
      "cell_type": "code",
      "source": [
        "def render_frame(time):\n",
        "  vbo = ctx.buffer(vertices.tobytes())\n",
        "  vao = ctx.vertex_array(prog, vbo, \"in_vert\", \"in_color\")\n",
        "\n",
        "  fbo = ctx.framebuffer(\n",
        "    color_attachments=[ctx.texture((512, 512), 3)]\n",
        "  )\n",
        "  fbo.use()\n",
        "  fbo.clear(0.0+time, 0.0+time, 0.0+time, 1.0)\n",
        "  vao.render()\n",
        "\n",
        "  return np.array(Image.frombytes(\n",
        "    \"RGB\", fbo.size, fbo.color_attachments[0].read(),\n",
        "    \"raw\", \"RGB\", 0, -1\n",
        "  ))"
      ],
      "metadata": {
        "id": "6heaLXnCnedN"
      },
      "execution_count": null,
      "outputs": []
    },
    {
      "cell_type": "code",
      "source": [
        "clip = mpy.VideoClip(render_frame, duration=2) # 2 seconds\n",
        "clip.write_gif(\"anim.gif\",fps=15)\n",
        "#now in files anim.gif"
      ],
      "metadata": {
        "id": "Kkizfl_SndQ-"
      },
      "execution_count": null,
      "outputs": []
    }
  ]
}